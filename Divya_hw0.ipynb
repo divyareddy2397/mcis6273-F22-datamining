{
 "cells": [
  {
   "cell_type": "code",
   "execution_count": null,
   "metadata": {},
   "outputs": [],
   "source": []
  },
  {
   "cell_type": "markdown",
   "metadata": {},
   "source": [
    "### Assignment Zero\n",
    "### Zotera UserID : divyareddy2397\n",
    "### Zotera Registered Email ID : drgaddam2397@muleriders.saumag.edu"
   ]
  },
  {
   "cell_type": "markdown",
   "metadata": {},
   "source": [
    "#### Q.1  List 3 things that you learned from this podcast?\n",
    "\n",
    "Adam's podcast was full of information with overall applications of data science field, along with the jupyter notebook and github.\n",
    "\n",
    "- I learnt how the cognitive psychology is being applied in the data science, how the thought process of the researcher goes when he/she thinks about building an Artificial Intelligence.\n",
    "\n",
    "- The importance of jupyter notebook and the impact github has created thoughout ths field was interesting to know about.\n",
    "\n",
    "- Adam really explained thinks like how social science and cdata science are applied in the field of AI. I learnt things about data science vast applications in different fields like biology, marketing and many more\n",
    "\n"
   ]
  },
  {
   "cell_type": "markdown",
   "metadata": {},
   "source": [
    "### Q. 2 What is your reaction to the podcast? Pick at least one point Adam brought up in the interview that you agree with and list your reason why? \n",
    "\n",
    "Adam's Podcast was full of variety of informations. He covered computational notebooks, github, data science in nicely easy to understand language.\n",
    "\n",
    "Adam mentioned how he is building a software some days and how he tests it. He also said and I agree how it is very important to know the social science aspect of the field. The behavior of the robot and how humans react to them. How the person looking on one side of road has to be made alert by honking since he's looking other way and the robot does not notice this. There will be different inputs required to make this more accurate. All these things to listen were so fascinating. "
   ]
  },
  {
   "cell_type": "markdown",
   "metadata": {},
   "source": [
    "### Q. 3  After listening to the podcast , do you think you are more interested or less interested in learning from Jupyter notebooks on Github?\n",
    "\n",
    "I think jupyter notebooks are really very helpful especially for students who are newly learning to code. Along with the students, professionals also can create their code, write a proper description cell by cell and make it easily readavble. I am exited to work via notebbok on Github since it is a free open source platform. It gives the flexibility to learn from others' code as well as to publish own work to the world to see."
   ]
  },
  {
   "cell_type": "code",
   "execution_count": null,
   "metadata": {},
   "outputs": [],
   "source": []
  },
  {
   "cell_type": "code",
   "execution_count": null,
   "metadata": {},
   "outputs": [],
   "source": []
  }
 ],
 "metadata": {
  "kernelspec": {
   "display_name": "Python 3.10.5 64-bit",
   "language": "python",
   "name": "python3"
  },
  "language_info": {
   "codemirror_mode": {
    "name": "ipython",
    "version": 3
   },
   "file_extension": ".py",
   "mimetype": "text/x-python",
   "name": "python",
   "nbconvert_exporter": "python",
   "pygments_lexer": "ipython3",
   "version": "3.10.5"
  },
  "vscode": {
   "interpreter": {
    "hash": "aee8b7b246df8f9039afb4144a1f6fd8d2ca17a180786b69acc140d282b71a49"
   }
  }
 },
 "nbformat": 4,
 "nbformat_minor": 2
}
